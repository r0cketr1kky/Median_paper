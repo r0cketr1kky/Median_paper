{
  "nbformat": 4,
  "nbformat_minor": 0,
  "metadata": {
    "colab": {
      "name": "trying_median.ipynb",
      "provenance": [],
      "collapsed_sections": [],
      "authorship_tag": "ABX9TyOTcWQYupoQ+L1VUAMuFK9x",
      "include_colab_link": true
    },
    "kernelspec": {
      "name": "python3",
      "display_name": "Python 3"
    }
  },
  "cells": [
    {
      "cell_type": "markdown",
      "metadata": {
        "id": "view-in-github",
        "colab_type": "text"
      },
      "source": [
        "<a href=\"https://colab.research.google.com/github/r0cketr1kky/Median_paper/blob/master/trying_median.ipynb\" target=\"_parent\"><img src=\"https://colab.research.google.com/assets/colab-badge.svg\" alt=\"Open In Colab\"/></a>"
      ]
    },
    {
      "cell_type": "code",
      "metadata": {
        "id": "BiaUXY5VhCtJ",
        "colab_type": "code",
        "colab": {}
      },
      "source": [
        "import numpy as np"
      ],
      "execution_count": 0,
      "outputs": []
    },
    {
      "cell_type": "code",
      "metadata": {
        "id": "nR_ijgIE7Kkt",
        "colab_type": "code",
        "colab": {}
      },
      "source": [
        "class User:\n",
        "  def __init__(self, id, inp):\n",
        "    self.partner_id = id\n",
        "    self.input1 = inp\n",
        "    self.ran = np.random.randint(-1000, 1000)"
      ],
      "execution_count": 0,
      "outputs": []
    },
    {
      "cell_type": "code",
      "metadata": {
        "id": "Ycf-_RYi_Fdy",
        "colab_type": "code",
        "colab": {}
      },
      "source": [
        "class Computations:\n",
        "\n",
        "  def __init__(self, user: User):\n",
        "    self.user = user\n",
        "  \n",
        "  def operation1(self):\n",
        "    out_inp1 = self.user.input1 + self.user.ran\n",
        "    return out_inp1\n",
        "      \n",
        "  def operation2(self):\n",
        "    out_inp2 = self.user.input1 - self.user.ran\n",
        "    return out_inp2  "
      ],
      "execution_count": 0,
      "outputs": []
    },
    {
      "cell_type": "code",
      "metadata": {
        "id": "y29AU5ClhXAB",
        "colab_type": "code",
        "colab": {}
      },
      "source": [
        "# EACH USER HAS VALUE AS THEIR RESPECTIVE IDs\n",
        "users_list = []\n",
        "for i in range(1000):\n",
        "  users_list.append(User(i, i))\n",
        "#users_list "
      ],
      "execution_count": 0,
      "outputs": []
    },
    {
      "cell_type": "code",
      "metadata": {
        "id": "nJEo4yFPmzFD",
        "colab_type": "code",
        "colab": {}
      },
      "source": [
        "import random"
      ],
      "execution_count": 0,
      "outputs": []
    },
    {
      "cell_type": "code",
      "metadata": {
        "id": "WLS7SfbUiACO",
        "colab_type": "code",
        "colab": {}
      },
      "source": [
        "def find_median(users_list):\n",
        "  med = 0\n",
        "\n",
        "  random.shuffle(users_list) # RANDOMLY SHUFFLE THE 1000 USERS IN THE LIST\n",
        "  l = []\n",
        "  for i in range(1000):\n",
        "    l.append(users_list[i].input1)\n",
        "\n",
        "  print(np.median(l))\n",
        "\n",
        "  for i in range(1000):\n",
        "    if i % 2 == 0:\n",
        "      x = users_list[i]\n",
        "      #print(x)\n",
        "      continue\n",
        "    else:\n",
        "      y = users_list[i]\n",
        "      #print(y)\n",
        "\n",
        "\n",
        "    y.ran = x.ran\n",
        "\n",
        "    val1 = Computations(x).operation1()\n",
        "    val2 = Computations(y).operation2()\n",
        "\n",
        "    #print(val1, val2)\n",
        "\n",
        "    if val1 >= 0:\n",
        "        med += 1\n",
        "        #print(val1)   \n",
        "    else:\n",
        "      med -= 1\n",
        "      #print(val1)\n",
        "    \n",
        "    if val2 >= 0:\n",
        "      med += 1\n",
        "      #print(val2)\n",
        "    else:\n",
        "      med -= 1\n",
        "      #print(val2)\n",
        "\n",
        "  return med"
      ],
      "execution_count": 0,
      "outputs": []
    },
    {
      "cell_type": "code",
      "metadata": {
        "id": "B3iU-asKuwBs",
        "colab_type": "code",
        "colab": {}
      },
      "source": [
        "u1 = []\n",
        "u2 = []\n",
        "u3 = []"
      ],
      "execution_count": 0,
      "outputs": []
    },
    {
      "cell_type": "code",
      "metadata": {
        "id": "jxJqWxzrkDk6",
        "colab_type": "code",
        "colab": {
          "base_uri": "https://localhost:8080/",
          "height": 187
        },
        "outputId": "23631776-4429-4a9e-d62e-3fa4d8c74bd3"
      },
      "source": [
        "u1.append(find_median(users_list))\n",
        "u1.append(find_median(users_list))\n",
        "u1.append(find_median(users_list))\n",
        "u1.append(find_median(users_list))\n",
        "u1.append(find_median(users_list))\n",
        "u1.append(find_median(users_list))\n",
        "u1.append(find_median(users_list))\n",
        "u1.append(find_median(users_list))\n",
        "u1.append(find_median(users_list))\n",
        "u1.append(find_median(users_list))\n",
        "\n",
        "# REAL MEDIAN PRINTED BELOW: 499.5"
      ],
      "execution_count": 23,
      "outputs": [
        {
          "output_type": "stream",
          "text": [
            "499.5\n",
            "499.5\n",
            "499.5\n",
            "499.5\n",
            "499.5\n",
            "499.5\n",
            "499.5\n",
            "499.5\n",
            "499.5\n",
            "499.5\n"
          ],
          "name": "stdout"
        }
      ]
    },
    {
      "cell_type": "code",
      "metadata": {
        "id": "VvmkWYNNvY0V",
        "colab_type": "code",
        "colab": {
          "base_uri": "https://localhost:8080/",
          "height": 34
        },
        "outputId": "181bbabc-effa-4839-de7c-1707903b1bad"
      },
      "source": [
        "u1\n",
        "# APPROXIMATE MEDIAN BY OUR ALGORITHM"
      ],
      "execution_count": 24,
      "outputs": [
        {
          "output_type": "execute_result",
          "data": {
            "text/plain": [
              "[492, 474, 466, 458, 438, 494, 452, 468, 480, 476]"
            ]
          },
          "metadata": {
            "tags": []
          },
          "execution_count": 24
        }
      ]
    },
    {
      "cell_type": "code",
      "metadata": {
        "id": "RNPeBKvCmxGK",
        "colab_type": "code",
        "colab": {}
      },
      "source": [
        "user_list1 = []\n",
        "\n",
        "for i in range(1000):\n",
        "    user_list1.append(User(i, -20))"
      ],
      "execution_count": 0,
      "outputs": []
    },
    {
      "cell_type": "code",
      "metadata": {
        "id": "v32ZjUksp_pU",
        "colab_type": "code",
        "colab": {
          "base_uri": "https://localhost:8080/",
          "height": 187
        },
        "outputId": "da4c5520-f3a8-43f8-e86c-abc5ed958459"
      },
      "source": [
        "u2.append(find_median(user_list1))\n",
        "u2.append(find_median(user_list1))\n",
        "u2.append(find_median(user_list1))\n",
        "u2.append(find_median(user_list1))\n",
        "u2.append(find_median(user_list1))\n",
        "u2.append(find_median(user_list1))\n",
        "u2.append(find_median(user_list1))\n",
        "u2.append(find_median(user_list1))\n",
        "u2.append(find_median(user_list1))\n",
        "u2.append(find_median(user_list1))\n",
        "\n",
        "# REAL MEDIAN PRINTED BELOW: -20.0"
      ],
      "execution_count": 27,
      "outputs": [
        {
          "output_type": "stream",
          "text": [
            "-20.0\n",
            "-20.0\n",
            "-20.0\n",
            "-20.0\n",
            "-20.0\n",
            "-20.0\n",
            "-20.0\n",
            "-20.0\n",
            "-20.0\n",
            "-20.0\n"
          ],
          "name": "stdout"
        }
      ]
    },
    {
      "cell_type": "code",
      "metadata": {
        "id": "5dD0oWKTvhy9",
        "colab_type": "code",
        "colab": {
          "base_uri": "https://localhost:8080/",
          "height": 34
        },
        "outputId": "5aa131c9-528b-4a9f-d129-b5bb1ddd21b7"
      },
      "source": [
        "u2\n",
        "# APPROXIMATE MEDIAN BY OUR ALGORITHM"
      ],
      "execution_count": 28,
      "outputs": [
        {
          "output_type": "execute_result",
          "data": {
            "text/plain": [
              "[-22, -26, -24, -18, -18, -22, -20, -20, -26, -20]"
            ]
          },
          "metadata": {
            "tags": []
          },
          "execution_count": 28
        }
      ]
    },
    {
      "cell_type": "code",
      "metadata": {
        "id": "_huqqgGFqC2o",
        "colab_type": "code",
        "colab": {}
      },
      "source": [
        "user_list2 = []\n",
        "\n",
        "for i in range(1000):\n",
        "  if i % 2 == 0:\n",
        "    user_list2.append(User(i, -i))\n",
        "  else:\n",
        "    user_list2.append(User(i, i))"
      ],
      "execution_count": 0,
      "outputs": []
    },
    {
      "cell_type": "code",
      "metadata": {
        "id": "bT2l8R5Nr0Q1",
        "colab_type": "code",
        "colab": {
          "base_uri": "https://localhost:8080/",
          "height": 187
        },
        "outputId": "7411e0e4-58ae-4e6c-92d6-0cb7fa81ab20"
      },
      "source": [
        "u3.append(find_median(user_list2))\n",
        "u3.append(find_median(user_list2))\n",
        "u3.append(find_median(user_list2))\n",
        "u3.append(find_median(user_list2))\n",
        "u3.append(find_median(user_list2))\n",
        "u3.append(find_median(user_list2))\n",
        "u3.append(find_median(user_list2))\n",
        "u3.append(find_median(user_list2))\n",
        "u3.append(find_median(user_list2))\n",
        "u3.append(find_median(user_list2))\n",
        "\n",
        "# REAL MEDIAN PRINTED BELOW: 0.5"
      ],
      "execution_count": 30,
      "outputs": [
        {
          "output_type": "stream",
          "text": [
            "0.5\n",
            "0.5\n",
            "0.5\n",
            "0.5\n",
            "0.5\n",
            "0.5\n",
            "0.5\n",
            "0.5\n",
            "0.5\n",
            "0.5\n"
          ],
          "name": "stdout"
        }
      ]
    },
    {
      "cell_type": "code",
      "metadata": {
        "id": "3ER_o4zmvlk4",
        "colab_type": "code",
        "colab": {
          "base_uri": "https://localhost:8080/",
          "height": 34
        },
        "outputId": "724fcea4-f8b6-499c-d56c-4bf9c7039ae1"
      },
      "source": [
        "u3\n",
        "# APPROXIMATE MEDIAN BY OUR ALGORITHM"
      ],
      "execution_count": 31,
      "outputs": [
        {
          "output_type": "execute_result",
          "data": {
            "text/plain": [
              "[10, 20, -8, -40, -2, 12, 32, 14, 8, -12]"
            ]
          },
          "metadata": {
            "tags": []
          },
          "execution_count": 31
        }
      ]
    },
    {
      "cell_type": "code",
      "metadata": {
        "id": "XQ6mpxXOr-b9",
        "colab_type": "code",
        "colab": {}
      },
      "source": [
        ""
      ],
      "execution_count": 0,
      "outputs": []
    }
  ]
}