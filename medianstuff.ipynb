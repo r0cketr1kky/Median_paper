{
  "nbformat": 4,
  "nbformat_minor": 0,
  "metadata": {
    "colab": {
      "name": "medianstuff.ipynb",
      "provenance": [],
      "collapsed_sections": [],
      "authorship_tag": "ABX9TyPVeN73ARdlFW2NNcLo8Rj3",
      "include_colab_link": true
    },
    "kernelspec": {
      "name": "python3",
      "display_name": "Python 3"
    }
  },
  "cells": [
    {
      "cell_type": "markdown",
      "metadata": {
        "id": "view-in-github",
        "colab_type": "text"
      },
      "source": [
        "<a href=\"https://colab.research.google.com/github/r0cketr1kky/Median_paper/blob/master/medianstuff.ipynb\" target=\"_parent\"><img src=\"https://colab.research.google.com/assets/colab-badge.svg\" alt=\"Open In Colab\"/></a>"
      ]
    },
    {
      "cell_type": "code",
      "metadata": {
        "id": "IdtB9eFK_Fgv",
        "colab_type": "code",
        "colab": {}
      },
      "source": [
        "import numpy as np"
      ],
      "execution_count": 0,
      "outputs": []
    },
    {
      "cell_type": "code",
      "metadata": {
        "id": "nR_ijgIE7Kkt",
        "colab_type": "code",
        "colab": {}
      },
      "source": [
        "class User:\n",
        "  def __init__(self, id, inp):\n",
        "    self.partner_id = id\n",
        "    self.input1 = inp\n",
        "    self.ran = np.random.randint(1, 2**63)"
      ],
      "execution_count": 0,
      "outputs": []
    },
    {
      "cell_type": "code",
      "metadata": {
        "id": "Ycf-_RYi_Fdy",
        "colab_type": "code",
        "colab": {}
      },
      "source": [
        "class Computations:\n",
        "\n",
        "  def __init__(self, user: User):\n",
        "    self.user = user\n",
        "  \n",
        "  def operation1(self):\n",
        "    out_inp1 = self.user.input1 + self.user.ran\n",
        "    return out_inp1\n",
        "      \n",
        "  def operation2(self):\n",
        "    out_inp2 = self.user.input1 - self.user.ran\n",
        "    return out_inp2  "
      ],
      "execution_count": 0,
      "outputs": []
    },
    {
      "cell_type": "code",
      "metadata": {
        "id": "JRK8z0_tu3Bd",
        "colab_type": "code",
        "colab": {}
      },
      "source": [
        "alice = User(1, 5)"
      ],
      "execution_count": 0,
      "outputs": []
    },
    {
      "cell_type": "code",
      "metadata": {
        "id": "8S9_TrZUu29t",
        "colab_type": "code",
        "colab": {}
      },
      "source": [
        "bob = User(2, 7)\n",
        "bob.ran = alice.ran"
      ],
      "execution_count": 0,
      "outputs": []
    },
    {
      "cell_type": "code",
      "metadata": {
        "id": "i2CIoKoAu26W",
        "colab_type": "code",
        "outputId": "02056fe5-dd8a-4167-d3dd-02b783d5e76d",
        "colab": {
          "base_uri": "https://localhost:8080/",
          "height": 34
        }
      },
      "source": [
        "x = Computations(alice)\n",
        "x = x.operation1()\n",
        "x"
      ],
      "execution_count": 18,
      "outputs": [
        {
          "output_type": "execute_result",
          "data": {
            "text/plain": [
              "832258801344917575"
            ]
          },
          "metadata": {
            "tags": []
          },
          "execution_count": 18
        }
      ]
    },
    {
      "cell_type": "code",
      "metadata": {
        "id": "CJkyAgYzT2ul",
        "colab_type": "code",
        "outputId": "c03eae93-9627-49d5-c5ca-54746624f0d8",
        "colab": {
          "base_uri": "https://localhost:8080/",
          "height": 34
        }
      },
      "source": [
        "y = Computations(bob)\n",
        "y = y.operation2()\n",
        "y"
      ],
      "execution_count": 19,
      "outputs": [
        {
          "output_type": "execute_result",
          "data": {
            "text/plain": [
              "-832258801344917563"
            ]
          },
          "metadata": {
            "tags": []
          },
          "execution_count": 19
        }
      ]
    },
    {
      "cell_type": "code",
      "metadata": {
        "id": "MVljK4DbmCXN",
        "colab_type": "code",
        "outputId": "d6bff755-7184-4664-ee14-0787b4f3f142",
        "colab": {
          "base_uri": "https://localhost:8080/",
          "height": 34
        }
      },
      "source": [
        "x + y"
      ],
      "execution_count": 20,
      "outputs": [
        {
          "output_type": "execute_result",
          "data": {
            "text/plain": [
              "12"
            ]
          },
          "metadata": {
            "tags": []
          },
          "execution_count": 20
        }
      ]
    },
    {
      "cell_type": "code",
      "metadata": {
        "id": "UyDn6gsNomiA",
        "colab_type": "code",
        "colab": {}
      },
      "source": [
        ""
      ],
      "execution_count": 0,
      "outputs": []
    },
    {
      "cell_type": "code",
      "metadata": {
        "id": "UKxHRIY2QYHj",
        "colab_type": "code",
        "colab": {}
      },
      "source": [
        "odd_list = []\n",
        "even_list = []\n",
        "\n",
        "for i in range(1000):\n",
        "  if i % 2 == 0:\n",
        "    #print(i)\n",
        "    even_list.append(i)\n",
        "  else:\n",
        "    odd_list.append(i)\n",
        "\n",
        "#print(even_list)\n",
        "#print(odd_list)"
      ],
      "execution_count": 0,
      "outputs": []
    },
    {
      "cell_type": "code",
      "metadata": {
        "id": "VEhtIVQXUHgz",
        "colab_type": "code",
        "colab": {}
      },
      "source": [
        "# EACH USER HAS VALUE AS THEIR RESPECTIVE IDs\n",
        "users_list = []\n",
        "for i in range(1000):\n",
        "  users_list.append(User(i, i))\n",
        "#users_list "
      ],
      "execution_count": 0,
      "outputs": []
    },
    {
      "cell_type": "code",
      "metadata": {
        "id": "ZOOt6Z_jQYCw",
        "colab_type": "code",
        "colab": {}
      },
      "source": [
        "# CALCULATING SUM\n",
        "for i in range(1000):\n",
        "  if i % 2 == 0:\n",
        "    x = users_list[i]\n",
        "    continue\n",
        "  else:\n",
        "    y = users_list[i]\n",
        "\n",
        "  y.ran = x.ran\n",
        "\n",
        "  val1 = Computations(x).operation1()\n",
        "  val2 = Computations(y).operation2()\n",
        "\n",
        "  #print(val1 + val2) # THIS LINE GIVES US 0+1, 2+3, 4+5 and so on....It works!!"
      ],
      "execution_count": 0,
      "outputs": []
    },
    {
      "cell_type": "code",
      "metadata": {
        "id": "gbSh-9R7QX8x",
        "colab_type": "code",
        "outputId": "355be1fb-3870-44a4-9c8a-d84290a9ee4d",
        "colab": {
          "base_uri": "https://localhost:8080/",
          "height": 34
        }
      },
      "source": [
        "# CALCULATING MEDIAN\n",
        "med = 0\n",
        "for i in range(1000):\n",
        "  if i % 2 == 0:\n",
        "    x = users_list[i]\n",
        "    continue\n",
        "  else:\n",
        "    y = users_list[i]\n",
        "\n",
        "  y.ran = x.ran\n",
        "\n",
        "  val1 = Computations(x).operation1()\n",
        "  val2 = Computations(y).operation2()\n",
        "\n",
        "  if val1 + val2 >= med:\n",
        "    med += 1\n",
        "  else:\n",
        "    med -= 1\n",
        "\n",
        "print(med)"
      ],
      "execution_count": 24,
      "outputs": [
        {
          "output_type": "stream",
          "text": [
            "500\n"
          ],
          "name": "stdout"
        }
      ]
    },
    {
      "cell_type": "code",
      "metadata": {
        "id": "db9UlgmOQX6c",
        "colab_type": "code",
        "colab": {}
      },
      "source": [
        ""
      ],
      "execution_count": 0,
      "outputs": []
    },
    {
      "cell_type": "code",
      "metadata": {
        "id": "OogJbd-oQX0t",
        "colab_type": "code",
        "colab": {}
      },
      "source": [
        ""
      ],
      "execution_count": 0,
      "outputs": []
    },
    {
      "cell_type": "code",
      "metadata": {
        "id": "-geS8dTyQXx0",
        "colab_type": "code",
        "colab": {}
      },
      "source": [
        ""
      ],
      "execution_count": 0,
      "outputs": []
    }
  ]
}