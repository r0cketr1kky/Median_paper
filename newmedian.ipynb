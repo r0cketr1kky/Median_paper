{
  "nbformat": 4,
  "nbformat_minor": 0,
  "metadata": {
    "colab": {
      "name": "newmedian.ipynb",
      "provenance": [],
      "collapsed_sections": [],
      "authorship_tag": "ABX9TyPHN+cAj8DP27nqL5Cc/Yrb",
      "include_colab_link": true
    },
    "kernelspec": {
      "name": "python3",
      "display_name": "Python 3"
    }
  },
  "cells": [
    {
      "cell_type": "markdown",
      "metadata": {
        "id": "view-in-github",
        "colab_type": "text"
      },
      "source": [
        "<a href=\"https://colab.research.google.com/github/r0cketr1kky/Median_paper/blob/master/newmedian.ipynb\" target=\"_parent\"><img src=\"https://colab.research.google.com/assets/colab-badge.svg\" alt=\"Open In Colab\"/></a>"
      ]
    },
    {
      "cell_type": "code",
      "metadata": {
        "id": "IdtB9eFK_Fgv",
        "colab_type": "code",
        "colab": {}
      },
      "source": [
        "import numpy as np"
      ],
      "execution_count": 0,
      "outputs": []
    },
    {
      "cell_type": "code",
      "metadata": {
        "id": "nR_ijgIE7Kkt",
        "colab_type": "code",
        "colab": {}
      },
      "source": [
        "class User:\n",
        "  def __init__(self, id, inp):\n",
        "    self.partner_id = id\n",
        "    self.input1 = inp\n",
        "    self.ran = np.random.randint(1, 2**63)"
      ],
      "execution_count": 0,
      "outputs": []
    },
    {
      "cell_type": "code",
      "metadata": {
        "id": "Ycf-_RYi_Fdy",
        "colab_type": "code",
        "colab": {}
      },
      "source": [
        "class Computations:\n",
        "\n",
        "  def __init__(self, user: User):\n",
        "    self.user = user\n",
        "  \n",
        "  def operation1(self):\n",
        "    out_inp1 = self.user.input1 + self.user.ran\n",
        "    return out_inp1\n",
        "      \n",
        "  def operation2(self):\n",
        "    out_inp2 = self.user.input1 - self.user.ran\n",
        "    return out_inp2  "
      ],
      "execution_count": 0,
      "outputs": []
    },
    {
      "cell_type": "code",
      "metadata": {
        "id": "JRK8z0_tu3Bd",
        "colab_type": "code",
        "colab": {}
      },
      "source": [
        "alice = User(1, 5)"
      ],
      "execution_count": 0,
      "outputs": []
    },
    {
      "cell_type": "code",
      "metadata": {
        "id": "8S9_TrZUu29t",
        "colab_type": "code",
        "colab": {}
      },
      "source": [
        "bob = User(2, 7)\n",
        "bob.ran = alice.ran"
      ],
      "execution_count": 0,
      "outputs": []
    },
    {
      "cell_type": "code",
      "metadata": {
        "id": "i2CIoKoAu26W",
        "colab_type": "code",
        "outputId": "7d0808ff-7eb6-4b1e-867a-01f1f033814e",
        "colab": {
          "base_uri": "https://localhost:8080/",
          "height": 34
        }
      },
      "source": [
        "x = Computations(alice)\n",
        "x = x.operation1()\n",
        "x"
      ],
      "execution_count": 202,
      "outputs": [
        {
          "output_type": "execute_result",
          "data": {
            "text/plain": [
              "425720592324758623"
            ]
          },
          "metadata": {
            "tags": []
          },
          "execution_count": 202
        }
      ]
    },
    {
      "cell_type": "code",
      "metadata": {
        "id": "CJkyAgYzT2ul",
        "colab_type": "code",
        "outputId": "a4bed1a7-66eb-416b-eaa9-b8e411e94c37",
        "colab": {
          "base_uri": "https://localhost:8080/",
          "height": 34
        }
      },
      "source": [
        "y = Computations(bob)\n",
        "y = y.operation2()\n",
        "y"
      ],
      "execution_count": 203,
      "outputs": [
        {
          "output_type": "execute_result",
          "data": {
            "text/plain": [
              "-425720592324758611"
            ]
          },
          "metadata": {
            "tags": []
          },
          "execution_count": 203
        }
      ]
    },
    {
      "cell_type": "code",
      "metadata": {
        "id": "MVljK4DbmCXN",
        "colab_type": "code",
        "outputId": "6cc563d3-e3f0-4195-ac1c-6e76a597ef04",
        "colab": {
          "base_uri": "https://localhost:8080/",
          "height": 34
        }
      },
      "source": [
        "x + y"
      ],
      "execution_count": 204,
      "outputs": [
        {
          "output_type": "execute_result",
          "data": {
            "text/plain": [
              "12"
            ]
          },
          "metadata": {
            "tags": []
          },
          "execution_count": 204
        }
      ]
    },
    {
      "cell_type": "code",
      "metadata": {
        "id": "UyDn6gsNomiA",
        "colab_type": "code",
        "colab": {}
      },
      "source": [
        ""
      ],
      "execution_count": 0,
      "outputs": []
    },
    {
      "cell_type": "code",
      "metadata": {
        "id": "UKxHRIY2QYHj",
        "colab_type": "code",
        "colab": {}
      },
      "source": [
        "odd_list = []\n",
        "even_list = []\n",
        "\n",
        "for i in range(1000):\n",
        "  if i % 2 == 0:\n",
        "    #print(i)\n",
        "    even_list.append(i)\n",
        "  else:\n",
        "    odd_list.append(i)\n",
        "\n",
        "#print(even_list)\n",
        "#print(odd_list)"
      ],
      "execution_count": 0,
      "outputs": []
    },
    {
      "cell_type": "code",
      "metadata": {
        "id": "VEhtIVQXUHgz",
        "colab_type": "code",
        "colab": {}
      },
      "source": [
        "# EACH USER HAS VALUE AS THEIR RESPECTIVE IDs\n",
        "users_list = []\n",
        "for i in range(1000):\n",
        "  users_list.append(User(i, i))\n",
        "#users_list "
      ],
      "execution_count": 0,
      "outputs": []
    },
    {
      "cell_type": "code",
      "metadata": {
        "id": "ZOOt6Z_jQYCw",
        "colab_type": "code",
        "colab": {}
      },
      "source": [
        "# CALCULATING SUM\n",
        "for i in range(1000):\n",
        "  if i % 2 == 0:\n",
        "    x = users_list[i]\n",
        "    continue\n",
        "  else:\n",
        "    y = users_list[i]\n",
        "\n",
        "  y.ran = x.ran\n",
        "\n",
        "  val1 = Computations(x).operation1()\n",
        "  val2 = Computations(y).operation2()\n",
        "\n",
        "  #print(val1 + val2) # THIS LINE GIVES US 0+1, 2+3, 4+5 and so on....It works!!"
      ],
      "execution_count": 0,
      "outputs": []
    },
    {
      "cell_type": "code",
      "metadata": {
        "id": "gbSh-9R7QX8x",
        "colab_type": "code",
        "colab": {}
      },
      "source": [
        "# CALCULATING MEDIAN\n",
        "def find_median(users_list):\n",
        "  med = 0\n",
        "\n",
        "  for i in range(1000):\n",
        "    if i % 2 == 0:\n",
        "      x = users_list[i]\n",
        "      continue\n",
        "    else:\n",
        "      y = users_list[i]\n",
        "\n",
        "    y.ran = x.ran\n",
        "\n",
        "    val1 = Computations(x).operation1()\n",
        "    val2 = Computations(y).operation2()\n",
        "    #print(val1)\n",
        "    #print(val2)\n",
        "    \n",
        "    if val1 >= 0:\n",
        "      med += 1\n",
        "    else:\n",
        "      med -= 1\n",
        "      #print(val1)\n",
        "    \n",
        "    if val2 >= 0:\n",
        "      med += 1\n",
        "    else:\n",
        "      med -= 1\n",
        "      #print(val2)\n",
        "  \n",
        "  return med"
      ],
      "execution_count": 0,
      "outputs": []
    },
    {
      "cell_type": "code",
      "metadata": {
        "id": "8jKlNvNMyDeB",
        "colab_type": "code",
        "colab": {}
      },
      "source": [
        "class User:\n",
        "  def __init__(self, id, inp):\n",
        "    self.partner_id = id\n",
        "    self.input1 = inp\n",
        "    self.ran = np.random.randint(1, 2**63)"
      ],
      "execution_count": 0,
      "outputs": []
    },
    {
      "cell_type": "code",
      "metadata": {
        "id": "-geS8dTyQXx0",
        "colab_type": "code",
        "colab": {}
      },
      "source": [
        "user_list1 = []\n",
        "\n",
        "for i in range(1000):\n",
        "  user_list1.append(User(i, i + 1))  # Input values incremented by 1  "
      ],
      "execution_count": 0,
      "outputs": []
    },
    {
      "cell_type": "code",
      "metadata": {
        "id": "34_1kWSgywBx",
        "colab_type": "code",
        "colab": {}
      },
      "source": [
        "#print(user_list1[-1].input1)\n",
        "#print(user_list1[-1].ran)"
      ],
      "execution_count": 0,
      "outputs": []
    },
    {
      "cell_type": "code",
      "metadata": {
        "id": "11in0F8beSPn",
        "colab_type": "code",
        "colab": {
          "base_uri": "https://localhost:8080/",
          "height": 34
        },
        "outputId": "63b48dc3-7b38-46a4-9e0d-3801620a9bfe"
      },
      "source": [
        "find_median(user_list1)"
      ],
      "execution_count": 227,
      "outputs": [
        {
          "output_type": "execute_result",
          "data": {
            "text/plain": [
              "0"
            ]
          },
          "metadata": {
            "tags": []
          },
          "execution_count": 227
        }
      ]
    },
    {
      "cell_type": "code",
      "metadata": {
        "id": "xE71GQPKeZmo",
        "colab_type": "code",
        "colab": {}
      },
      "source": [
        "user_list2 = []\n",
        "\n",
        "for i in range(1000):\n",
        "  user_list2.append(User(i, i - 1))  # Input values decremented by 1"
      ],
      "execution_count": 0,
      "outputs": []
    },
    {
      "cell_type": "code",
      "metadata": {
        "id": "-EfS3lwyerEN",
        "colab_type": "code",
        "colab": {
          "base_uri": "https://localhost:8080/",
          "height": 34
        },
        "outputId": "224a58dd-bc54-4f84-ded5-18765ce87821"
      },
      "source": [
        "find_median(user_list2)"
      ],
      "execution_count": 229,
      "outputs": [
        {
          "output_type": "execute_result",
          "data": {
            "text/plain": [
              "0"
            ]
          },
          "metadata": {
            "tags": []
          },
          "execution_count": 229
        }
      ]
    },
    {
      "cell_type": "code",
      "metadata": {
        "id": "dhpUBNQCewhF",
        "colab_type": "code",
        "colab": {}
      },
      "source": [
        "user_list3 = []\n",
        "\n",
        "for i in range(1000):\n",
        "  user_list3.append(User(i, i + i))  # Input values incremented by the number itself"
      ],
      "execution_count": 0,
      "outputs": []
    },
    {
      "cell_type": "code",
      "metadata": {
        "id": "o59f4Nj0e9AQ",
        "colab_type": "code",
        "colab": {
          "base_uri": "https://localhost:8080/",
          "height": 34
        },
        "outputId": "4bc0fe93-a5e3-49e2-d4ef-24fbf93c3e63"
      },
      "source": [
        "find_median(user_list3)"
      ],
      "execution_count": 231,
      "outputs": [
        {
          "output_type": "execute_result",
          "data": {
            "text/plain": [
              "0"
            ]
          },
          "metadata": {
            "tags": []
          },
          "execution_count": 231
        }
      ]
    },
    {
      "cell_type": "code",
      "metadata": {
        "id": "V1boZOf9fBn5",
        "colab_type": "code",
        "colab": {}
      },
      "source": [
        "user_list4 = []\n",
        "\n",
        "for i in range(1000):\n",
        "  user_list4.append(User(i, i*i))  # Input values multiplied by itself\n",
        "  "
      ],
      "execution_count": 0,
      "outputs": []
    },
    {
      "cell_type": "code",
      "metadata": {
        "id": "ujO2kfMkfZap",
        "colab_type": "code",
        "colab": {
          "base_uri": "https://localhost:8080/",
          "height": 34
        },
        "outputId": "fa41379a-0487-4831-b2ee-af67f3bc2a7a"
      },
      "source": [
        "find_median(user_list4)"
      ],
      "execution_count": 233,
      "outputs": [
        {
          "output_type": "execute_result",
          "data": {
            "text/plain": [
              "0"
            ]
          },
          "metadata": {
            "tags": []
          },
          "execution_count": 233
        }
      ]
    },
    {
      "cell_type": "code",
      "metadata": {
        "id": "0Ql0eZ8RfgeE",
        "colab_type": "code",
        "colab": {}
      },
      "source": [
        "user_list5 = []\n",
        "\n",
        "for i in range(1000):\n",
        "  user_list5.append(User(i, i - i))  # Input values decremented by itself, i.e. i/p is zero"
      ],
      "execution_count": 0,
      "outputs": []
    },
    {
      "cell_type": "code",
      "metadata": {
        "id": "5yLukw5Hfy6k",
        "colab_type": "code",
        "colab": {
          "base_uri": "https://localhost:8080/",
          "height": 34
        },
        "outputId": "47a2f1d1-219a-42cc-e090-08834019c870"
      },
      "source": [
        "find_median(user_list5)"
      ],
      "execution_count": 235,
      "outputs": [
        {
          "output_type": "execute_result",
          "data": {
            "text/plain": [
              "0"
            ]
          },
          "metadata": {
            "tags": []
          },
          "execution_count": 235
        }
      ]
    },
    {
      "cell_type": "code",
      "metadata": {
        "id": "b69So_xff5et",
        "colab_type": "code",
        "colab": {}
      },
      "source": [
        "user_list6 = []\n",
        "\n",
        "for i in range(1000):\n",
        "  if i % 2 == 0:\n",
        "    user_list6.append(User(i, i)) \n",
        "  else:\n",
        "    user_list6.append(User(i, -i))"
      ],
      "execution_count": 0,
      "outputs": []
    },
    {
      "cell_type": "code",
      "metadata": {
        "id": "g5CI3AizgeX7",
        "colab_type": "code",
        "colab": {
          "base_uri": "https://localhost:8080/",
          "height": 34
        },
        "outputId": "2e8d1a0e-11ca-4485-bb1a-1f98d66af8bc"
      },
      "source": [
        "find_median(user_list6)"
      ],
      "execution_count": 237,
      "outputs": [
        {
          "output_type": "execute_result",
          "data": {
            "text/plain": [
              "0"
            ]
          },
          "metadata": {
            "tags": []
          },
          "execution_count": 237
        }
      ]
    },
    {
      "cell_type": "code",
      "metadata": {
        "id": "xN2_wc_QnmiF",
        "colab_type": "code",
        "colab": {}
      },
      "source": [
        "class User:\n",
        "  def __init__(self, id, inp):\n",
        "    self.partner_id = id\n",
        "    self.input1 = inp\n",
        "    self.ran = np.random.randint(1, 10) # Choosing a random integer between 1 and 10"
      ],
      "execution_count": 0,
      "outputs": []
    },
    {
      "cell_type": "code",
      "metadata": {
        "id": "kYnK2IsWghAD",
        "colab_type": "code",
        "colab": {}
      },
      "source": [
        "user_list6 = []\n",
        "\n",
        "for i in range(1000):\n",
        "    user_list6.append(User(i, -20)) # All users have the same input -20\n",
        "\n",
        "# As I'm choosing a random int b/w 1 and 10, note that -20 + 10(the max value of the range) = -10 which is < 0.\n",
        "# Result should be -1000, as m decrements for every value"
      ],
      "execution_count": 0,
      "outputs": []
    },
    {
      "cell_type": "code",
      "metadata": {
        "id": "owBKDxZRniyX",
        "colab_type": "code",
        "colab": {
          "base_uri": "https://localhost:8080/",
          "height": 34
        },
        "outputId": "d747ba35-8f6b-4cbc-e6e9-efaf34bc567a"
      },
      "source": [
        "find_median(user_list6)"
      ],
      "execution_count": 242,
      "outputs": [
        {
          "output_type": "execute_result",
          "data": {
            "text/plain": [
              "-1000"
            ]
          },
          "metadata": {
            "tags": []
          },
          "execution_count": 242
        }
      ]
    },
    {
      "cell_type": "code",
      "metadata": {
        "id": "HxaayyBFyAeN",
        "colab_type": "code",
        "colab": {}
      },
      "source": [
        ""
      ],
      "execution_count": 0,
      "outputs": []
    },
    {
      "cell_type": "code",
      "metadata": {
        "id": "Q8etwvbpx7dB",
        "colab_type": "code",
        "colab": {}
      },
      "source": [
        "# BETA DISTRIBUTION "
      ],
      "execution_count": 0,
      "outputs": []
    },
    {
      "cell_type": "code",
      "metadata": {
        "id": "AbsbPX1CoBCJ",
        "colab_type": "code",
        "colab": {}
      },
      "source": [
        "class User:\n",
        "  def __init__(self, id, inp):\n",
        "    self.partner_id = id\n",
        "    self.input1 = inp\n",
        "    self.ran = np.random.beta(0.5, 0.5)*10 # Random sampling with Beta Distribution"
      ],
      "execution_count": 0,
      "outputs": []
    },
    {
      "cell_type": "code",
      "metadata": {
        "id": "gDMk-C-EuYAM",
        "colab_type": "code",
        "colab": {}
      },
      "source": [
        "user_list = []\n",
        "\n",
        "for i in range(1000):\n",
        "  if i % 2 == 0:\n",
        "    user_list.append(User(i, -i))\n",
        "  else:\n",
        "    user_list.append(User(i, i))"
      ],
      "execution_count": 0,
      "outputs": []
    },
    {
      "cell_type": "code",
      "metadata": {
        "id": "x3jjII8kuvn-",
        "colab_type": "code",
        "colab": {
          "base_uri": "https://localhost:8080/",
          "height": 34
        },
        "outputId": "fc1ddfc1-f0e3-40f0-8169-2bf8959b3ff5"
      },
      "source": [
        "find_median(user_list)"
      ],
      "execution_count": 249,
      "outputs": [
        {
          "output_type": "execute_result",
          "data": {
            "text/plain": [
              "2"
            ]
          },
          "metadata": {
            "tags": []
          },
          "execution_count": 249
        }
      ]
    },
    {
      "cell_type": "code",
      "metadata": {
        "id": "YeGTXHuduxIA",
        "colab_type": "code",
        "colab": {}
      },
      "source": [
        ""
      ],
      "execution_count": 0,
      "outputs": []
    }
  ]
}