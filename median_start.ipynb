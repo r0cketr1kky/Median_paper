{
  "nbformat": 4,
  "nbformat_minor": 0,
  "metadata": {
    "colab": {
      "name": "median_start.ipynb",
      "provenance": [],
      "collapsed_sections": [],
      "authorship_tag": "ABX9TyMZMk7ntAbyshRCDy3MGZmv",
      "include_colab_link": true
    },
    "kernelspec": {
      "name": "python3",
      "display_name": "Python 3"
    }
  },
  "cells": [
    {
      "cell_type": "markdown",
      "metadata": {
        "id": "view-in-github",
        "colab_type": "text"
      },
      "source": [
        "<a href=\"https://colab.research.google.com/github/r0cketr1kky/Median_paper/blob/master/median_start.ipynb\" target=\"_parent\"><img src=\"https://colab.research.google.com/assets/colab-badge.svg\" alt=\"Open In Colab\"/></a>"
      ]
    },
    {
      "cell_type": "code",
      "metadata": {
        "id": "IdtB9eFK_Fgv",
        "colab_type": "code",
        "colab": {}
      },
      "source": [
        "import numpy as np"
      ],
      "execution_count": 0,
      "outputs": []
    },
    {
      "cell_type": "code",
      "metadata": {
        "id": "nR_ijgIE7Kkt",
        "colab_type": "code",
        "colab": {}
      },
      "source": [
        "class User:\n",
        "  def __init__(self, id, inp):\n",
        "    self.partner_id = id\n",
        "    self.input1 = inp\n",
        "    self.ran = np.random.randint(1, 2**63)"
      ],
      "execution_count": 0,
      "outputs": []
    },
    {
      "cell_type": "code",
      "metadata": {
        "id": "Ycf-_RYi_Fdy",
        "colab_type": "code",
        "colab": {}
      },
      "source": [
        "class Computations:\n",
        "\n",
        "  def __init__(self, user: User):\n",
        "    self.user = user\n",
        "  \n",
        "  def operation1(self):\n",
        "    out_inp1 = self.user.input1 + self.user.ran\n",
        "    return out_inp1\n",
        "      \n",
        "  def operation2(self):\n",
        "    out_inp2 = self.user.input1 - self.user.ran\n",
        "    return out_inp2  "
      ],
      "execution_count": 0,
      "outputs": []
    },
    {
      "cell_type": "code",
      "metadata": {
        "id": "JRK8z0_tu3Bd",
        "colab_type": "code",
        "colab": {
          "base_uri": "https://localhost:8080/",
          "height": 34
        },
        "outputId": "751c07e5-c9e7-4696-c2fe-c235e9349767"
      },
      "source": [
        "alice = User(1, 120)\n",
        "alice"
      ],
      "execution_count": 232,
      "outputs": [
        {
          "output_type": "execute_result",
          "data": {
            "text/plain": [
              "<__main__.User at 0x7f8562630b38>"
            ]
          },
          "metadata": {
            "tags": []
          },
          "execution_count": 232
        }
      ]
    },
    {
      "cell_type": "code",
      "metadata": {
        "id": "8S9_TrZUu29t",
        "colab_type": "code",
        "colab": {}
      },
      "source": [
        "bob = User(2, 179)\n",
        "bob.ran = alice.ran"
      ],
      "execution_count": 0,
      "outputs": []
    },
    {
      "cell_type": "code",
      "metadata": {
        "id": "i2CIoKoAu26W",
        "colab_type": "code",
        "colab": {}
      },
      "source": [
        "x = Computations(alice)\n",
        "x = x.operation1()"
      ],
      "execution_count": 0,
      "outputs": []
    },
    {
      "cell_type": "code",
      "metadata": {
        "id": "CJkyAgYzT2ul",
        "colab_type": "code",
        "colab": {}
      },
      "source": [
        "y = Computations(bob)\n",
        "y = y.operation2()"
      ],
      "execution_count": 0,
      "outputs": []
    },
    {
      "cell_type": "code",
      "metadata": {
        "id": "MVljK4DbmCXN",
        "colab_type": "code",
        "outputId": "a670a0f0-5f82-47c9-9007-02d4c9d63c9d",
        "colab": {
          "base_uri": "https://localhost:8080/",
          "height": 34
        }
      },
      "source": [
        "x + y"
      ],
      "execution_count": 236,
      "outputs": [
        {
          "output_type": "execute_result",
          "data": {
            "text/plain": [
              "299"
            ]
          },
          "metadata": {
            "tags": []
          },
          "execution_count": 236
        }
      ]
    },
    {
      "cell_type": "code",
      "metadata": {
        "id": "UyDn6gsNomiA",
        "colab_type": "code",
        "colab": {}
      },
      "source": [
        ""
      ],
      "execution_count": 0,
      "outputs": []
    }
  ]
}