{
  "nbformat": 4,
  "nbformat_minor": 0,
  "metadata": {
    "colab": {
      "name": "newmedian.ipynb",
      "provenance": [],
      "collapsed_sections": [],
      "authorship_tag": "ABX9TyPUeyaGyiij9nvqdj0zHucc",
      "include_colab_link": true
    },
    "kernelspec": {
      "name": "python3",
      "display_name": "Python 3"
    }
  },
  "cells": [
    {
      "cell_type": "markdown",
      "metadata": {
        "id": "view-in-github",
        "colab_type": "text"
      },
      "source": [
        "<a href=\"https://colab.research.google.com/github/r0cketr1kky/Median_paper/blob/master/newmedian_withrealmed.ipynb\" target=\"_parent\"><img src=\"https://colab.research.google.com/assets/colab-badge.svg\" alt=\"Open In Colab\"/></a>"
      ]
    },
    {
      "cell_type": "code",
      "metadata": {
        "id": "IdtB9eFK_Fgv",
        "colab_type": "code",
        "colab": {}
      },
      "source": [
        "import numpy as np"
      ],
      "execution_count": 0,
      "outputs": []
    },
    {
      "cell_type": "code",
      "metadata": {
        "id": "nR_ijgIE7Kkt",
        "colab_type": "code",
        "colab": {}
      },
      "source": [
        "class User:\n",
        "  def __init__(self, id, inp):\n",
        "    self.partner_id = id\n",
        "    self.input1 = inp\n",
        "    self.ran = np.random.randint(1, 2**63)"
      ],
      "execution_count": 0,
      "outputs": []
    },
    {
      "cell_type": "code",
      "metadata": {
        "id": "Ycf-_RYi_Fdy",
        "colab_type": "code",
        "colab": {}
      },
      "source": [
        "class Computations:\n",
        "\n",
        "  def __init__(self, user: User):\n",
        "    self.user = user\n",
        "  \n",
        "  def operation1(self):\n",
        "    out_inp1 = self.user.input1 + self.user.ran\n",
        "    return out_inp1\n",
        "      \n",
        "  def operation2(self):\n",
        "    out_inp2 = self.user.input1 - self.user.ran\n",
        "    return out_inp2  "
      ],
      "execution_count": 0,
      "outputs": []
    },
    {
      "cell_type": "code",
      "metadata": {
        "id": "JRK8z0_tu3Bd",
        "colab_type": "code",
        "colab": {}
      },
      "source": [
        "alice = User(1, 5)"
      ],
      "execution_count": 0,
      "outputs": []
    },
    {
      "cell_type": "code",
      "metadata": {
        "id": "8S9_TrZUu29t",
        "colab_type": "code",
        "colab": {}
      },
      "source": [
        "bob = User(2, 7)\n",
        "bob.ran = alice.ran"
      ],
      "execution_count": 0,
      "outputs": []
    },
    {
      "cell_type": "code",
      "metadata": {
        "id": "i2CIoKoAu26W",
        "colab_type": "code",
        "outputId": "7d0808ff-7eb6-4b1e-867a-01f1f033814e",
        "colab": {
          "base_uri": "https://localhost:8080/",
          "height": 34
        }
      },
      "source": [
        "x = Computations(alice)\n",
        "x = x.operation1()\n",
        "x"
      ],
      "execution_count": 0,
      "outputs": [
        {
          "output_type": "execute_result",
          "data": {
            "text/plain": [
              "425720592324758623"
            ]
          },
          "metadata": {
            "tags": []
          },
          "execution_count": 202
        }
      ]
    },
    {
      "cell_type": "code",
      "metadata": {
        "id": "CJkyAgYzT2ul",
        "colab_type": "code",
        "outputId": "a4bed1a7-66eb-416b-eaa9-b8e411e94c37",
        "colab": {
          "base_uri": "https://localhost:8080/",
          "height": 34
        }
      },
      "source": [
        "y = Computations(bob)\n",
        "y = y.operation2()\n",
        "y"
      ],
      "execution_count": 0,
      "outputs": [
        {
          "output_type": "execute_result",
          "data": {
            "text/plain": [
              "-425720592324758611"
            ]
          },
          "metadata": {
            "tags": []
          },
          "execution_count": 203
        }
      ]
    },
    {
      "cell_type": "code",
      "metadata": {
        "id": "MVljK4DbmCXN",
        "colab_type": "code",
        "outputId": "6cc563d3-e3f0-4195-ac1c-6e76a597ef04",
        "colab": {
          "base_uri": "https://localhost:8080/",
          "height": 34
        }
      },
      "source": [
        "x + y"
      ],
      "execution_count": 0,
      "outputs": [
        {
          "output_type": "execute_result",
          "data": {
            "text/plain": [
              "12"
            ]
          },
          "metadata": {
            "tags": []
          },
          "execution_count": 204
        }
      ]
    },
    {
      "cell_type": "code",
      "metadata": {
        "id": "UyDn6gsNomiA",
        "colab_type": "code",
        "colab": {}
      },
      "source": [
        ""
      ],
      "execution_count": 0,
      "outputs": []
    },
    {
      "cell_type": "code",
      "metadata": {
        "id": "UKxHRIY2QYHj",
        "colab_type": "code",
        "colab": {}
      },
      "source": [
        "odd_list = []\n",
        "even_list = []\n",
        "\n",
        "for i in range(1000):\n",
        "  if i % 2 == 0:\n",
        "    #print(i)\n",
        "    even_list.append(i)\n",
        "  else:\n",
        "    odd_list.append(i)\n",
        "\n",
        "#print(even_list)\n",
        "#print(odd_list)"
      ],
      "execution_count": 0,
      "outputs": []
    },
    {
      "cell_type": "code",
      "metadata": {
        "id": "VEhtIVQXUHgz",
        "colab_type": "code",
        "colab": {}
      },
      "source": [
        "# EACH USER HAS VALUE AS THEIR RESPECTIVE IDs\n",
        "users_list = []\n",
        "for i in range(1000):\n",
        "  users_list.append(User(i, i))\n",
        "#users_list "
      ],
      "execution_count": 0,
      "outputs": []
    },
    {
      "cell_type": "code",
      "metadata": {
        "id": "ZOOt6Z_jQYCw",
        "colab_type": "code",
        "colab": {}
      },
      "source": [
        "# CALCULATING SUM\n",
        "for i in range(1000):\n",
        "  if i % 2 == 0:\n",
        "    x = users_list[i]\n",
        "    continue\n",
        "  else:\n",
        "    y = users_list[i]\n",
        "\n",
        "  y.ran = x.ran\n",
        "\n",
        "  val1 = Computations(x).operation1()\n",
        "  val2 = Computations(y).operation2()\n",
        "\n",
        "  #print(val1 + val2) # THIS LINE GIVES US 0+1, 2+3, 4+5 and so on....It works!!"
      ],
      "execution_count": 0,
      "outputs": []
    },
    {
      "cell_type": "code",
      "metadata": {
        "id": "gbSh-9R7QX8x",
        "colab_type": "code",
        "colab": {}
      },
      "source": [
        "# CALCULATING MEDIAN\n",
        "def find_median(users_list):\n",
        "  med = 0\n",
        "\n",
        "  for i in range(1000):\n",
        "    if i % 2 == 0:\n",
        "      x = users_list[i]\n",
        "      continue\n",
        "    else:\n",
        "      y = users_list[i]\n",
        "\n",
        "    y.ran = x.ran\n",
        "\n",
        "    val1 = Computations(x).operation1()\n",
        "    val2 = Computations(y).operation2()\n",
        "    #print(val1)\n",
        "    #print(val2)\n",
        "    \n",
        "    if val1 >= 0:\n",
        "      med += 1\n",
        "      #print(val1)   \n",
        "    else:\n",
        "      med -= 1\n",
        "      #print(val1)\n",
        "    \n",
        "    if val2 >= 0:\n",
        "      med += 1\n",
        "      #print(val2)\n",
        "    else:\n",
        "      med -= 1\n",
        "      #print(val2)\n",
        " \n",
        "  return med"
      ],
      "execution_count": 0,
      "outputs": []
    },
    {
      "cell_type": "code",
      "metadata": {
        "id": "8jKlNvNMyDeB",
        "colab_type": "code",
        "colab": {}
      },
      "source": [
        "class User:\n",
        "  def __init__(self, id, inp):\n",
        "    self.partner_id = id\n",
        "    self.input1 = inp\n",
        "    self.ran = np.random.randint(1, 2**63)"
      ],
      "execution_count": 0,
      "outputs": []
    },
    {
      "cell_type": "code",
      "metadata": {
        "id": "-geS8dTyQXx0",
        "colab_type": "code",
        "colab": {}
      },
      "source": [
        "user_list1 = []\n",
        "\n",
        "for i in range(1000):\n",
        "  user_list1.append(User(i, i + 1))  # Input values incremented by 1  "
      ],
      "execution_count": 0,
      "outputs": []
    },
    {
      "cell_type": "code",
      "metadata": {
        "id": "34_1kWSgywBx",
        "colab_type": "code",
        "colab": {}
      },
      "source": [
        "#print(user_list1[-1].input1)\n",
        "#print(user_list1[-1].ran)"
      ],
      "execution_count": 0,
      "outputs": []
    },
    {
      "cell_type": "code",
      "metadata": {
        "id": "11in0F8beSPn",
        "colab_type": "code",
        "outputId": "09207e81-4ac8-4c04-baec-3065e18d746b",
        "colab": {
          "base_uri": "https://localhost:8080/",
          "height": 34
        }
      },
      "source": [
        "find_median(user_list1)"
      ],
      "execution_count": 11,
      "outputs": [
        {
          "output_type": "execute_result",
          "data": {
            "text/plain": [
              "0"
            ]
          },
          "metadata": {
            "tags": []
          },
          "execution_count": 11
        }
      ]
    },
    {
      "cell_type": "code",
      "metadata": {
        "id": "xE71GQPKeZmo",
        "colab_type": "code",
        "colab": {}
      },
      "source": [
        "user_list2 = []\n",
        "\n",
        "for i in range(1000):\n",
        "  user_list2.append(User(i, i - 1))  # Input values decremented by 1"
      ],
      "execution_count": 0,
      "outputs": []
    },
    {
      "cell_type": "code",
      "metadata": {
        "id": "-EfS3lwyerEN",
        "colab_type": "code",
        "outputId": "de99a1fd-e835-4673-c2c5-26b9884eebd3",
        "colab": {
          "base_uri": "https://localhost:8080/",
          "height": 34
        }
      },
      "source": [
        "find_median(user_list2)"
      ],
      "execution_count": 13,
      "outputs": [
        {
          "output_type": "execute_result",
          "data": {
            "text/plain": [
              "0"
            ]
          },
          "metadata": {
            "tags": []
          },
          "execution_count": 13
        }
      ]
    },
    {
      "cell_type": "code",
      "metadata": {
        "id": "dhpUBNQCewhF",
        "colab_type": "code",
        "colab": {}
      },
      "source": [
        "user_list3 = []\n",
        "\n",
        "for i in range(1000):\n",
        "  user_list3.append(User(i, i + i))  # Input values incremented by the number itself"
      ],
      "execution_count": 0,
      "outputs": []
    },
    {
      "cell_type": "code",
      "metadata": {
        "id": "o59f4Nj0e9AQ",
        "colab_type": "code",
        "outputId": "dce0afd3-4ed0-43db-d773-b89399d8232d",
        "colab": {
          "base_uri": "https://localhost:8080/",
          "height": 34
        }
      },
      "source": [
        "find_median(user_list3)"
      ],
      "execution_count": 15,
      "outputs": [
        {
          "output_type": "execute_result",
          "data": {
            "text/plain": [
              "0"
            ]
          },
          "metadata": {
            "tags": []
          },
          "execution_count": 15
        }
      ]
    },
    {
      "cell_type": "code",
      "metadata": {
        "id": "V1boZOf9fBn5",
        "colab_type": "code",
        "colab": {}
      },
      "source": [
        "user_list4 = []\n",
        "\n",
        "for i in range(1000):\n",
        "  user_list4.append(User(i, i*i))  # Input values multiplied by itself\n",
        "  "
      ],
      "execution_count": 0,
      "outputs": []
    },
    {
      "cell_type": "code",
      "metadata": {
        "id": "ujO2kfMkfZap",
        "colab_type": "code",
        "outputId": "6ac100df-db12-419b-d376-e0fee12fba23",
        "colab": {
          "base_uri": "https://localhost:8080/",
          "height": 34
        }
      },
      "source": [
        "find_median(user_list4)"
      ],
      "execution_count": 17,
      "outputs": [
        {
          "output_type": "execute_result",
          "data": {
            "text/plain": [
              "0"
            ]
          },
          "metadata": {
            "tags": []
          },
          "execution_count": 17
        }
      ]
    },
    {
      "cell_type": "code",
      "metadata": {
        "id": "0Ql0eZ8RfgeE",
        "colab_type": "code",
        "colab": {}
      },
      "source": [
        "user_list5 = []\n",
        "\n",
        "for i in range(1000):\n",
        "  user_list5.append(User(i, i - i))  # Input values decremented by itself, i.e. i/p is zero"
      ],
      "execution_count": 0,
      "outputs": []
    },
    {
      "cell_type": "code",
      "metadata": {
        "id": "5yLukw5Hfy6k",
        "colab_type": "code",
        "outputId": "453204a1-4931-4413-f1d2-ee9fba309d80",
        "colab": {
          "base_uri": "https://localhost:8080/",
          "height": 34
        }
      },
      "source": [
        "find_median(user_list5)"
      ],
      "execution_count": 19,
      "outputs": [
        {
          "output_type": "execute_result",
          "data": {
            "text/plain": [
              "0"
            ]
          },
          "metadata": {
            "tags": []
          },
          "execution_count": 19
        }
      ]
    },
    {
      "cell_type": "code",
      "metadata": {
        "id": "b69So_xff5et",
        "colab_type": "code",
        "colab": {}
      },
      "source": [
        "user_list6 = []\n",
        "\n",
        "for i in range(1000):\n",
        "  if i % 2 == 0:\n",
        "    user_list6.append(User(i, i)) \n",
        "  else:\n",
        "    user_list6.append(User(i, -i))"
      ],
      "execution_count": 0,
      "outputs": []
    },
    {
      "cell_type": "code",
      "metadata": {
        "id": "g5CI3AizgeX7",
        "colab_type": "code",
        "outputId": "5b520634-2dde-4556-a27f-ead75b86e0c3",
        "colab": {
          "base_uri": "https://localhost:8080/",
          "height": 34
        }
      },
      "source": [
        "find_median(user_list6)"
      ],
      "execution_count": 21,
      "outputs": [
        {
          "output_type": "execute_result",
          "data": {
            "text/plain": [
              "0"
            ]
          },
          "metadata": {
            "tags": []
          },
          "execution_count": 21
        }
      ]
    },
    {
      "cell_type": "code",
      "metadata": {
        "id": "xN2_wc_QnmiF",
        "colab_type": "code",
        "colab": {}
      },
      "source": [
        "class User:\n",
        "  def __init__(self, id, inp):\n",
        "    self.partner_id = id\n",
        "    self.input1 = inp\n",
        "    self.ran = np.random.randint(1, 10) # Choosing a random integer between 1 and 10"
      ],
      "execution_count": 0,
      "outputs": []
    },
    {
      "cell_type": "code",
      "metadata": {
        "id": "kYnK2IsWghAD",
        "colab_type": "code",
        "colab": {}
      },
      "source": [
        "user_list6 = []\n",
        "\n",
        "for i in range(1000):\n",
        "    user_list6.append(User(i, -20)) # All users have the same input -20\n",
        "\n",
        "# As I'm choosing a random int b/w 1 and 10, note that -20 + 10(the max value of the range) = -10 which is < 0.\n",
        "# Result should be -1000, as m decrements for every value"
      ],
      "execution_count": 0,
      "outputs": []
    },
    {
      "cell_type": "code",
      "metadata": {
        "id": "owBKDxZRniyX",
        "colab_type": "code",
        "outputId": "017a9cf1-126b-4355-972e-1d65295d3a1f",
        "colab": {
          "base_uri": "https://localhost:8080/",
          "height": 34
        }
      },
      "source": [
        "find_median(user_list6)"
      ],
      "execution_count": 25,
      "outputs": [
        {
          "output_type": "execute_result",
          "data": {
            "text/plain": [
              "-1000"
            ]
          },
          "metadata": {
            "tags": []
          },
          "execution_count": 25
        }
      ]
    },
    {
      "cell_type": "code",
      "metadata": {
        "id": "HxaayyBFyAeN",
        "colab_type": "code",
        "colab": {}
      },
      "source": [
        ""
      ],
      "execution_count": 0,
      "outputs": []
    },
    {
      "cell_type": "code",
      "metadata": {
        "id": "Q8etwvbpx7dB",
        "colab_type": "code",
        "colab": {}
      },
      "source": [
        "# BETA DISTRIBUTION "
      ],
      "execution_count": 0,
      "outputs": []
    },
    {
      "cell_type": "code",
      "metadata": {
        "id": "K10AYbayVUeS",
        "colab_type": "code",
        "colab": {}
      },
      "source": [
        "beta_values = []"
      ],
      "execution_count": 0,
      "outputs": []
    },
    {
      "cell_type": "code",
      "metadata": {
        "id": "AbsbPX1CoBCJ",
        "colab_type": "code",
        "colab": {}
      },
      "source": [
        "class User:\n",
        "  def __init__(self, id, inp):\n",
        "    self.partner_id = id\n",
        "    self.input1 = inp\n",
        "    self.ran = np.random.beta(0.5, 0.5)*10 # Random sampling with Beta Distribution"
      ],
      "execution_count": 0,
      "outputs": []
    },
    {
      "cell_type": "code",
      "metadata": {
        "id": "gDMk-C-EuYAM",
        "colab_type": "code",
        "colab": {}
      },
      "source": [
        "user_list = []\n",
        "\n",
        "for i in range(1000):\n",
        "  if i % 2 == 0:\n",
        "    user_list.append(User(i, -i))\n",
        "  else:\n",
        "    user_list.append(User(i, i))"
      ],
      "execution_count": 0,
      "outputs": []
    },
    {
      "cell_type": "code",
      "metadata": {
        "id": "x3jjII8kuvn-",
        "colab_type": "code",
        "colab": {}
      },
      "source": [
        "beta_values.append(find_median(user_list))"
      ],
      "execution_count": 0,
      "outputs": []
    },
    {
      "cell_type": "code",
      "metadata": {
        "id": "YeGTXHuduxIA",
        "colab_type": "code",
        "outputId": "b234d790-0dcd-47a6-c531-8c11c3310703",
        "colab": {
          "base_uri": "https://localhost:8080/",
          "height": 34
        }
      },
      "source": [
        "beta_values"
      ],
      "execution_count": 31,
      "outputs": [
        {
          "output_type": "execute_result",
          "data": {
            "text/plain": [
              "[0]"
            ]
          },
          "metadata": {
            "tags": []
          },
          "execution_count": 31
        }
      ]
    },
    {
      "cell_type": "code",
      "metadata": {
        "id": "yi9Kvf3pVhIt",
        "colab_type": "code",
        "colab": {}
      },
      "source": [
        "# RAN ABOVE CODE 10 TIMES, VALUE 2 APPEARS TWICE IN THE LIST (Speculating...)"
      ],
      "execution_count": 0,
      "outputs": []
    },
    {
      "cell_type": "code",
      "metadata": {
        "id": "fg5hZDNbW2IP",
        "colab_type": "code",
        "colab": {}
      },
      "source": [
        ""
      ],
      "execution_count": 0,
      "outputs": []
    },
    {
      "cell_type": "code",
      "metadata": {
        "id": "34WgTbVWYBc_",
        "colab_type": "code",
        "colab": {}
      },
      "source": [
        "# Gaussian Distribution / Normal Distribution"
      ],
      "execution_count": 0,
      "outputs": []
    },
    {
      "cell_type": "code",
      "metadata": {
        "id": "1gEQJDSsYBap",
        "colab_type": "code",
        "colab": {}
      },
      "source": [
        "gaussian_values = []"
      ],
      "execution_count": 0,
      "outputs": []
    },
    {
      "cell_type": "code",
      "metadata": {
        "id": "U1sTPlshYBYk",
        "colab_type": "code",
        "colab": {}
      },
      "source": [
        "class User:\n",
        "  def __init__(self, id, inp):\n",
        "    self.partner_id = id\n",
        "    self.input1 = inp\n",
        "    self.ran = np.random.randn(1)*10 # Random sampling with Normal Distribution"
      ],
      "execution_count": 0,
      "outputs": []
    },
    {
      "cell_type": "code",
      "metadata": {
        "id": "iEZslKzuYBVZ",
        "colab_type": "code",
        "colab": {}
      },
      "source": [
        "user_list = []\n",
        "\n",
        "for i in range(1000):\n",
        "  if i % 2 == 0:\n",
        "    user_list.append(User(i, -i))\n",
        "  else:\n",
        "    user_list.append(User(i, i))"
      ],
      "execution_count": 0,
      "outputs": []
    },
    {
      "cell_type": "code",
      "metadata": {
        "id": "bDPZE_XbYBSB",
        "colab_type": "code",
        "colab": {}
      },
      "source": [
        "gaussian_values.append(find_median(user_list))"
      ],
      "execution_count": 0,
      "outputs": []
    },
    {
      "cell_type": "code",
      "metadata": {
        "id": "b-DF8awxYvSv",
        "colab_type": "code",
        "outputId": "854015ff-0d3c-4516-a30e-460846c622bd",
        "colab": {
          "base_uri": "https://localhost:8080/",
          "height": 34
        }
      },
      "source": [
        "gaussian_values"
      ],
      "execution_count": 38,
      "outputs": [
        {
          "output_type": "execute_result",
          "data": {
            "text/plain": [
              "[2]"
            ]
          },
          "metadata": {
            "tags": []
          },
          "execution_count": 38
        }
      ]
    },
    {
      "cell_type": "code",
      "metadata": {
        "id": "N_ydoqFrYxHR",
        "colab_type": "code",
        "outputId": "7cf625a2-92d6-42ff-ab92-89fe23ce9141",
        "colab": {
          "base_uri": "https://localhost:8080/",
          "height": 34
        }
      },
      "source": [
        "len(gaussian_values)"
      ],
      "execution_count": 39,
      "outputs": [
        {
          "output_type": "execute_result",
          "data": {
            "text/plain": [
              "1"
            ]
          },
          "metadata": {
            "tags": []
          },
          "execution_count": 39
        }
      ]
    },
    {
      "cell_type": "code",
      "metadata": {
        "id": "n-jXxiNoZGRB",
        "colab_type": "code",
        "colab": {}
      },
      "source": [
        "# RAN 22 TIMES, VALUE 2 APPEARS FOUR TIMES IN THE LIST"
      ],
      "execution_count": 0,
      "outputs": []
    },
    {
      "cell_type": "code",
      "metadata": {
        "id": "jnmY5zGxZei6",
        "colab_type": "code",
        "colab": {}
      },
      "source": [
        ""
      ],
      "execution_count": 0,
      "outputs": []
    },
    {
      "cell_type": "code",
      "metadata": {
        "id": "4l9cgq-OZgDd",
        "colab_type": "code",
        "colab": {}
      },
      "source": [
        "# Binomial Distribution"
      ],
      "execution_count": 0,
      "outputs": []
    },
    {
      "cell_type": "code",
      "metadata": {
        "id": "DZ11AbUIZgA0",
        "colab_type": "code",
        "colab": {}
      },
      "source": [
        "binomial_values = []"
      ],
      "execution_count": 0,
      "outputs": []
    },
    {
      "cell_type": "code",
      "metadata": {
        "id": "PtYwSCT4ZflE",
        "colab_type": "code",
        "colab": {}
      },
      "source": [
        "class User:\n",
        "  def __init__(self, id, inp):\n",
        "    self.partner_id = id\n",
        "    self.input1 = inp\n",
        "    self.ran = np.random.binomial(1, 0.5)*10 # Random sampling with Normal Distribution"
      ],
      "execution_count": 0,
      "outputs": []
    },
    {
      "cell_type": "code",
      "metadata": {
        "id": "Fa0HujFRZfhf",
        "colab_type": "code",
        "colab": {}
      },
      "source": [
        "user_list = []\n",
        "\n",
        "for i in range(1000):\n",
        "  if i % 2 == 0:\n",
        "    user_list.append(User(i, -i))\n",
        "  else:\n",
        "    user_list.append(User(i, i))"
      ],
      "execution_count": 0,
      "outputs": []
    },
    {
      "cell_type": "code",
      "metadata": {
        "id": "lKd_dcWCZfd5",
        "colab_type": "code",
        "colab": {}
      },
      "source": [
        "binomial_values.append(find_median(user_list))"
      ],
      "execution_count": 0,
      "outputs": []
    },
    {
      "cell_type": "code",
      "metadata": {
        "id": "uhmukIH5ZfbI",
        "colab_type": "code",
        "outputId": "487ae25e-b29d-467a-82d6-7668a99fca92",
        "colab": {
          "base_uri": "https://localhost:8080/",
          "height": 34
        }
      },
      "source": [
        "binomial_values"
      ],
      "execution_count": 46,
      "outputs": [
        {
          "output_type": "execute_result",
          "data": {
            "text/plain": [
              "[2]"
            ]
          },
          "metadata": {
            "tags": []
          },
          "execution_count": 46
        }
      ]
    },
    {
      "cell_type": "code",
      "metadata": {
        "id": "6plZv4zCgHUk",
        "colab_type": "code",
        "outputId": "bec3a9ba-8b79-4b7f-88d8-1f0a23cd2092",
        "colab": {
          "base_uri": "https://localhost:8080/",
          "height": 34
        }
      },
      "source": [
        "len(binomial_values)"
      ],
      "execution_count": 47,
      "outputs": [
        {
          "output_type": "execute_result",
          "data": {
            "text/plain": [
              "1"
            ]
          },
          "metadata": {
            "tags": []
          },
          "execution_count": 47
        }
      ]
    },
    {
      "cell_type": "code",
      "metadata": {
        "id": "wgdiTUaiUduP",
        "colab_type": "code",
        "colab": {
          "base_uri": "https://localhost:8080/",
          "height": 34
        },
        "outputId": "17339117-46db-4297-93e9-ad2e8d14217c"
      },
      "source": [
        "# REAL MEDIAN\n",
        " \n",
        "import statistics\n",
        "\n",
        "l = []\n",
        "for i in range(1000):\n",
        "  if i % 2 == 0:\n",
        "    l.append(-i)\n",
        "  else:\n",
        "    l.append(i)\n",
        "\n",
        "statistics.median(l)"
      ],
      "execution_count": 51,
      "outputs": [
        {
          "output_type": "execute_result",
          "data": {
            "text/plain": [
              "0.5"
            ]
          },
          "metadata": {
            "tags": []
          },
          "execution_count": 51
        }
      ]
    },
    {
      "cell_type": "code",
      "metadata": {
        "id": "g2yekQuBgVni",
        "colab_type": "code",
        "colab": {}
      },
      "source": [
        ""
      ],
      "execution_count": 0,
      "outputs": []
    },
    {
      "cell_type": "code",
      "metadata": {
        "id": "a3pY95f4hp5o",
        "colab_type": "code",
        "colab": {}
      },
      "source": [
        ""
      ],
      "execution_count": 0,
      "outputs": []
    },
    {
      "cell_type": "code",
      "metadata": {
        "id": "hj4taSI-hpyI",
        "colab_type": "code",
        "colab": {}
      },
      "source": [
        ""
      ],
      "execution_count": 0,
      "outputs": []
    },
    {
      "cell_type": "code",
      "metadata": {
        "id": "9inQCXPVhpwD",
        "colab_type": "code",
        "colab": {}
      },
      "source": [
        ""
      ],
      "execution_count": 0,
      "outputs": []
    },
    {
      "cell_type": "code",
      "metadata": {
        "id": "TKq4sk3OhptI",
        "colab_type": "code",
        "colab": {}
      },
      "source": [
        ""
      ],
      "execution_count": 0,
      "outputs": []
    },
    {
      "cell_type": "code",
      "metadata": {
        "id": "eZjovGzGhpqs",
        "colab_type": "code",
        "colab": {}
      },
      "source": [
        ""
      ],
      "execution_count": 0,
      "outputs": []
    },
    {
      "cell_type": "code",
      "metadata": {
        "id": "c1J-UkI8hpj8",
        "colab_type": "code",
        "colab": {}
      },
      "source": [
        ""
      ],
      "execution_count": 0,
      "outputs": []
    }
  ]
}