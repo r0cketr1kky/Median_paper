{
  "nbformat": 4,
  "nbformat_minor": 0,
  "metadata": {
    "colab": {
      "name": "shakespeare",
      "provenance": [],
      "collapsed_sections": [],
      "authorship_tag": "ABX9TyOFlMxiNpuzW0u8VuBP97vn",
      "include_colab_link": true
    },
    "kernelspec": {
      "name": "python3",
      "display_name": "Python 3"
    }
  },
  "cells": [
    {
      "cell_type": "markdown",
      "metadata": {
        "id": "view-in-github",
        "colab_type": "text"
      },
      "source": [
        "<a href=\"https://colab.research.google.com/github/r0cketr1kky/Median_paper/blob/master/shakespeare_part1.ipynb\" target=\"_parent\"><img src=\"https://colab.research.google.com/assets/colab-badge.svg\" alt=\"Open In Colab\"/></a>"
      ]
    },
    {
      "cell_type": "code",
      "metadata": {
        "id": "oWYhRplwWkEw",
        "colab_type": "code",
        "colab": {
          "base_uri": "https://localhost:8080/",
          "height": 51
        },
        "outputId": "433db154-8379-42d7-b314-9899d0b58ea5"
      },
      "source": [
        "from google.colab import drive\n",
        "drive.mount('/gdrive')\n",
        "%cd /gdrive"
      ],
      "execution_count": 1,
      "outputs": [
        {
          "output_type": "stream",
          "text": [
            "Drive already mounted at /gdrive; to attempt to forcibly remount, call drive.mount(\"/gdrive\", force_remount=True).\n",
            "/gdrive\n"
          ],
          "name": "stdout"
        }
      ]
    },
    {
      "cell_type": "code",
      "metadata": {
        "id": "O0MVjjgXW7e3",
        "colab_type": "code",
        "colab": {}
      },
      "source": [
        "import glob\n",
        "import os"
      ],
      "execution_count": 0,
      "outputs": []
    },
    {
      "cell_type": "code",
      "metadata": {
        "id": "8M-jYY9xhHKG",
        "colab_type": "code",
        "colab": {}
      },
      "source": [
        "import random\n",
        "import numpy as np"
      ],
      "execution_count": 0,
      "outputs": []
    },
    {
      "cell_type": "code",
      "metadata": {
        "id": "SbCiRRdOXQf1",
        "colab_type": "code",
        "colab": {}
      },
      "source": [
        "folder = '/gdrive/My Drive/shakespeare/'"
      ],
      "execution_count": 0,
      "outputs": []
    },
    {
      "cell_type": "code",
      "metadata": {
        "id": "Z0R0NBjtW7aA",
        "colab_type": "code",
        "colab": {}
      },
      "source": [
        "texts = os.listdir(folder)"
      ],
      "execution_count": 0,
      "outputs": []
    },
    {
      "cell_type": "code",
      "metadata": {
        "id": "Ii0zHOb7YFHw",
        "colab_type": "code",
        "colab": {
          "base_uri": "https://localhost:8080/",
          "height": 34
        },
        "outputId": "29630937-f236-4057-e5c3-3db1c4709560"
      },
      "source": [
        "len(texts)"
      ],
      "execution_count": 6,
      "outputs": [
        {
          "output_type": "execute_result",
          "data": {
            "text/plain": [
              "1144"
            ]
          },
          "metadata": {
            "tags": []
          },
          "execution_count": 6
        }
      ]
    },
    {
      "cell_type": "code",
      "metadata": {
        "id": "mH8wyYE8YSwO",
        "colab_type": "code",
        "colab": {}
      },
      "source": [
        "from collections import Counter\n",
        "\n",
        "def word_count(fname):\n",
        "\twith open(fname) as f:\n",
        "\t\treturn Counter(f.read().split())"
      ],
      "execution_count": 0,
      "outputs": []
    },
    {
      "cell_type": "code",
      "metadata": {
        "id": "LQ-IXAARYgeU",
        "colab_type": "code",
        "colab": {
          "base_uri": "https://localhost:8080/",
          "height": 34
        },
        "outputId": "33c50593-9b40-4dbc-b2c0-ab023f769c18"
      },
      "source": [
        "texts[0]"
      ],
      "execution_count": 8,
      "outputs": [
        {
          "output_type": "execute_result",
          "data": {
            "text/plain": [
              "'THE_TRAGEDY_OF_ANTONY_AND_CLEOPATRA_SECOND_MESSENGER.txt'"
            ]
          },
          "metadata": {
            "tags": []
          },
          "execution_count": 8
        }
      ]
    },
    {
      "cell_type": "code",
      "metadata": {
        "id": "MljUTf09oUds",
        "colab_type": "code",
        "colab": {}
      },
      "source": [
        "def pick_word(word, li):\n",
        "  #c = 0\n",
        "  for text in texts:\n",
        "    \n",
        "    x = word_count(folder + text)   # CREATE DICTIONARY OF WORDS IN THE TEXT\n",
        "    \n",
        "    y = x[word]    # FIND THE SPECIFIC WORD\n",
        "    \n",
        "    li.append(y)     # APPEND IT TO A LIST \n",
        "    #c += 1          \n",
        "    #print(\"File {} done\".format(c))\n",
        "\n",
        "  return"
      ],
      "execution_count": 0,
      "outputs": []
    },
    {
      "cell_type": "code",
      "metadata": {
        "id": "_hitxmH9ZNQh",
        "colab_type": "code",
        "colab": {}
      },
      "source": [
        "def pairwiseBlind(seq):\n",
        "\tn = np.zeros(len(seq))\n",
        "\tfor i in range(0, len(seq), 2):\n",
        "\t\tr = np.random.randint(-1000, 1000)\n",
        "\t\tn[i] = (seq[i] + r)\n",
        "\t\tn[i+1] = (seq[i+1] - r)\n",
        "\treturn n"
      ],
      "execution_count": 0,
      "outputs": []
    },
    {
      "cell_type": "code",
      "metadata": {
        "id": "IWWlI1t1gPyN",
        "colab_type": "code",
        "colab": {}
      },
      "source": [
        "def streamingMedian(seq):\n",
        "\n",
        "\trandom.shuffle(seq)\n",
        " \n",
        "\tm = 0\n",
        "\n",
        "\tfor nextElt in seq:\n",
        "\t\tif m > nextElt:\n",
        "\t\t\tm -= 1\n",
        "\t\telif m < nextElt:\n",
        "\t\t\tm += 1\n",
        "\n",
        "\treturn m"
      ],
      "execution_count": 0,
      "outputs": []
    },
    {
      "cell_type": "code",
      "metadata": {
        "id": "YyYV8dTwgWbM",
        "colab_type": "code",
        "colab": {}
      },
      "source": [
        "# FIND APPROX MEDIAN USING OUR ALGORITHM\n",
        "def median_run(lis): \n",
        "  x = pairwiseBlind(lis)\n",
        "  m = streamingMedian(x)\n",
        "  \n",
        "  return m"
      ],
      "execution_count": 0,
      "outputs": []
    },
    {
      "cell_type": "code",
      "metadata": {
        "id": "jvYWjm5kYkgD",
        "colab_type": "code",
        "colab": {
          "base_uri": "https://localhost:8080/",
          "height": 459
        },
        "outputId": "4b6d435d-3d03-4c0c-9cf4-825cd7a90c46"
      },
      "source": [
        "l_thy = []\n",
        "\n",
        "pick_word('thy', l_thy) # PICK THE WORD 'THY'\n",
        "\n",
        "print(\"Real median: {}\".format(np.median(l_thy)))\n",
        "# RUNNING IT FOR 25 TIMES, JUST TO SEE THE EXTREMES OF THE APPROX MEDIAN\n",
        "print(\"Approx Median: \")\n",
        "for _ in range(1, 25):\n",
        "  print(median_run(l_thy))"
      ],
      "execution_count": 13,
      "outputs": [
        {
          "output_type": "stream",
          "text": [
            "Real median: 0.0\n",
            "Approx Median: \n",
            "4\n",
            "24\n",
            "-3\n",
            "2\n",
            "3\n",
            "4\n",
            "13\n",
            "6\n",
            "6\n",
            "-2\n",
            "6\n",
            "-4\n",
            "6\n",
            "4\n",
            "6\n",
            "-17\n",
            "4\n",
            "0\n",
            "0\n",
            "2\n",
            "0\n",
            "14\n",
            "-8\n",
            "6\n"
          ],
          "name": "stdout"
        }
      ]
    },
    {
      "cell_type": "code",
      "metadata": {
        "id": "Q13JQjnrhPQy",
        "colab_type": "code",
        "colab": {
          "base_uri": "https://localhost:8080/",
          "height": 459
        },
        "outputId": "7199ea0f-e23a-4141-9813-732917215379"
      },
      "source": [
        "l_I = []\n",
        "\n",
        "pick_word('I', l_I) # PICK THE WORD 'I'\n",
        "\n",
        "print(\"Real median: {}\".format(np.median(l_I)))\n",
        "# RUNNING IT FOR 25 TIMES, JUST TO SEE THE EXTREMES OF THE APPROX MEDIAN\n",
        "print(\"Approx Median: \")\n",
        "for _ in range(1, 25):\n",
        "  print(median_run(l_I))  # WORD 'I'"
      ],
      "execution_count": 14,
      "outputs": [
        {
          "output_type": "stream",
          "text": [
            "Real median: 4.0\n",
            "Approx Median: \n",
            "2\n",
            "11\n",
            "9\n",
            "5\n",
            "10\n",
            "20\n",
            "12\n",
            "17\n",
            "20\n",
            "19\n",
            "11\n",
            "12\n",
            "3\n",
            "6\n",
            "27\n",
            "0\n",
            "6\n",
            "2\n",
            "17\n",
            "19\n",
            "9\n",
            "2\n",
            "14\n",
            "6\n"
          ],
          "name": "stdout"
        }
      ]
    },
    {
      "cell_type": "code",
      "metadata": {
        "id": "TQL9MJG8iWX9",
        "colab_type": "code",
        "colab": {
          "base_uri": "https://localhost:8080/",
          "height": 459
        },
        "outputId": "482df939-1ef7-4352-fece-a18188856c02"
      },
      "source": [
        "l_the = []\n",
        "\n",
        "pick_word('the', l_the) # PICK THE WORD 'the'\n",
        "\n",
        "print(\"Real median: {}\".format(np.median(l_the)))\n",
        "# RUNNING IT FOR 25 TIMES, JUST TO SEE THE EXTREMES OF THE APPROX MEDIAN\n",
        "print(\"Approx Median: \")\n",
        "for _ in range(1, 25):\n",
        "  print(median_run(l_the))  # WORD 'the'"
      ],
      "execution_count": 15,
      "outputs": [
        {
          "output_type": "stream",
          "text": [
            "Real median: 6.0\n",
            "Approx Median: \n",
            "11\n",
            "16\n",
            "10\n",
            "9\n",
            "12\n",
            "5\n",
            "5\n",
            "12\n",
            "11\n",
            "13\n",
            "14\n",
            "16\n",
            "31\n",
            "11\n",
            "6\n",
            "21\n",
            "10\n",
            "24\n",
            "-1\n",
            "0\n",
            "5\n",
            "19\n",
            "13\n",
            "13\n"
          ],
          "name": "stdout"
        }
      ]
    },
    {
      "cell_type": "code",
      "metadata": {
        "id": "bN0RwCjmp-tR",
        "colab_type": "code",
        "colab": {}
      },
      "source": [
        ""
      ],
      "execution_count": 0,
      "outputs": []
    }
  ]
}